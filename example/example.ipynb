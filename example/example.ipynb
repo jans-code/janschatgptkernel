{
 "cells": [
  {
   "cell_type": "markdown",
   "id": "1946d216-da0d-4ca8-b349-b605d6e95f9b",
   "metadata": {},
   "source": [
    "# Chat with ChatGPT inside a jupyter notebook."
   ]
  },
  {
   "cell_type": "code",
   "execution_count": 1,
   "id": "727b4f59-8eed-4844-8b66-2a420a86965d",
   "metadata": {},
   "outputs": [
    {
     "name": "stdout",
     "output_type": "stream",
     "text": [
      "monate = [\"Januar\", \"Februar\", \"März\", \"April\", \"Mai\", \"Juni\", \"Juli\", \"August\", \"September\", \"Oktober\", \"November\", \"Dezember\"]"
     ]
    }
   ],
   "source": [
    "Erstelle eine Python Liste mit den Monatsnamen eines Jahres."
   ]
  }
 ],
 "metadata": {
  "kernelspec": {
   "display_name": "ChatGPT",
   "language": "",
   "name": "janschatgptkernel"
  },
  "language_info": {
   "file_extension": ".txt",
   "mimetype": "text/plain",
   "name": "ChatGPT"
  }
 },
 "nbformat": 4,
 "nbformat_minor": 5
}
