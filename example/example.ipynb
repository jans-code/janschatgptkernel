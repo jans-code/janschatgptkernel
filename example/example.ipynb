{
 "cells": [
  {
   "cell_type": "markdown",
   "id": "1946d216-da0d-4ca8-b349-b605d6e95f9b",
   "metadata": {},
   "source": [
    "# Chat with ChatGPT inside a jupyter notebook."
   ]
  },
  {
   "cell_type": "code",
   "execution_count": 1,
   "id": "727b4f59-8eed-4844-8b66-2a420a86965d",
   "metadata": {},
   "outputs": [
    {
     "name": "stdout",
     "output_type": "stream",
     "text": [
      "Project Jupyter is an open-source software project that aims to enhance interactive computing experiences. The project provides a wide variety of tools and environments for building and sharing interactive computing systems, including Jupyter Notebooks, JupyterLab, and JupyterHub. \n",
      "\n",
      "Jupyter Notebooks are web-based interactive computational environments that allow users to combine code, text, and graphics in a single document. JupyterLab is an integrated development environment (IDE) that provides a more advanced interface for working with Jupyter Notebooks and other computational tools. JupyterHub is a multi-user server that allows users to share and collaborate on Jupyter Notebooks and other computational environments.\n",
      "\n",
      "Project Jupyter supports many programming languages such as Python, R, Julia, and C++. Jupyter notebooks provide support for inline multimedia display, code execution, and markdown editing. Jupyter notebooks are widely used in fields such as scientific computing, data analysis, and machine learning.\n",
      "\n",
      "Project Jupyter originated from the IPython project in 2014. IPython is an interactive shell for Python that provides features such as code completion, syntax highlighting, and history logging. The project was later renamed Jupyter after the three programming languages it supports initially: Julia, Python, and R."
     ]
    }
   ],
   "source": [
    "Tell me something about project jupyter."
   ]
  }
 ],
 "metadata": {
  "kernelspec": {
   "display_name": "ChatGPT",
   "language": "",
   "name": "janschatgptkernel"
  },
  "language_info": {
   "file_extension": ".txt",
   "mimetype": "text/plain",
   "name": "ChatGPT"
  }
 },
 "nbformat": 4,
 "nbformat_minor": 5
}
